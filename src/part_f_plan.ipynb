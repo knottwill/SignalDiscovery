{
 "cells": [
  {
   "cell_type": "code",
   "execution_count": 2,
   "metadata": {},
   "outputs": [],
   "source": [
    "import sys \n",
    "sys.path.append('/Users/willknott/Desktop/DIS/coursework/pds/wdk24/src')"
   ]
  },
  {
   "cell_type": "markdown",
   "metadata": {},
   "source": [
    "## Generation of data\n",
    "\n",
    "Make `generation.py` module containing `generate_from_total_pdf(N_events, f=0.1, ...)`\n",
    "\n",
    "We generate `n` datasets at different values of `N` (size of dataset).\n",
    "\n",
    "For a given `N`, should I run 'pilot simulations', to inform what choice for `n` is needed to get a good estimate of the probability of success. We could decide what we want the size of $\\hat{\\sigma_i}$ to be (roughly), as a percentage of $\\hat{p_i}$, (eg. 5%) and then solve for $n_i$ in the equation:\n",
    "\n",
    "$$\\hat{\\sigma_i} = \\sqrt{\\frac{\\hat{p_i}(1-\\hat{p_i})}{n_i}}$$\n",
    "\n",
    "$$n_i = \\frac{\\hat{p_i}(1-\\hat{p_i})}{\\hat{\\sigma_i}^2}$$\n",
    "\n",
    "Suppose we want the uncertainty to be ~5% of our estimate: $\\hat{\\sigma_i} = 0.05\\hat{p_i}$. Then using the equation above, we get:\n",
    "\n",
    "$$n_i = 400(\\frac{1}{\\hat{p_i}} - 1)$$\n",
    "\n",
    "For $\\hat{\\sigma_i} = k\\hat{p_i}$, we get\n",
    "\n",
    "$$n_i = \\frac{1}{k^2}(\\frac{1}{\\hat{p_i}} - 1)$$\n",
    "\n",
    "We could start off with $n_i = 20$ to get our estimate $\\hat{p_i}$, then use this to get a better $n_i$"
   ]
  },
  {
   "cell_type": "markdown",
   "metadata": {},
   "source": [
    "## Hypothesis test on each dataset\n",
    "\n",
    "Use Matt's example for the higgs discovery in lecture 16 as guidance.\n",
    "\n",
    "We fit the background only model and total model to the dataset, using MLE (or another estimation method).\n",
    "\n",
    "Calculate the neyman-pearson test statistic (I think `iminuit` can do this automatically).\n",
    "\n",
    "Assume: this test statistic, given the null hypothesis, is chi squared distributed with k=1. Is this a valid assumption? I think its only true in the asymptotic limit of high N. On the other hand, it may he the only way to conduct the hypothesis test, so if N is too small for this assumption to be valid, then N may be too small for discovery.\n",
    "\n",
    "`p = 1 - chi2.cdf(T, 1)`\n",
    "\n",
    "Then its a one sided test so the significance is:\n",
    "\n",
    "`Z = np.sqrt(chi2.ppf(1-2p, 1))`\n",
    "\n",
    "If Z>=5 then we have 'discovered the signal' (success)\n",
    "\n",
    "I will have a module for this: `hypothesis_test.py`\n",
    "\n",
    "#### Statistical justification of the assumption\n",
    "\n",
    "I think I need to justify \"this test statistic, given the null hypothesis, is chi squared distributed with k=1\"\n",
    "\n",
    "This is Wilks' theorem, which states that under certain conditions, this test statistic follows a chi-squared distribution"
   ]
  },
  {
   "cell_type": "code",
   "execution_count": 9,
   "metadata": {},
   "outputs": [
    {
     "name": "stdout",
     "output_type": "stream",
     "text": [
      "Generated 100000 events in 0.007047s\n",
      "┌─────────────────────────────────────────────────────────────────────────┐\n",
      "│                                Migrad                                   │\n",
      "├──────────────────────────────────┬──────────────────────────────────────┤\n",
      "│ FCN = 0.6691 (chi2/ndof = 0.0)   │              Nfcn = 85               │\n",
      "│ EDM = 1.83e-05 (Goal: 0.0002)    │                                      │\n",
      "├──────────────────────────────────┼──────────────────────────────────────┤\n",
      "│          Valid Minimum           │        No Parameters at limit        │\n",
      "├──────────────────────────────────┼──────────────────────────────────────┤\n",
      "│ Below EDM threshold (goal x 10)  │           Below call limit           │\n",
      "├───────────────┬──────────────────┼───────────┬─────────────┬────────────┤\n",
      "│  Covariance   │     Hesse ok     │ Accurate  │  Pos. def.  │ Not forced │\n",
      "└───────────────┴──────────────────┴───────────┴─────────────┴────────────┘\n",
      "┌───┬───────┬───────────┬───────────┬────────────┬────────────┬─────────┬─────────┬───────┐\n",
      "│   │ Name  │   Value   │ Hesse Err │ Minos Err- │ Minos Err+ │ Limit-  │ Limit+  │ Fixed │\n",
      "├───┼───────┼───────────┼───────────┼────────────┼────────────┼─────────┼─────────┼───────┤\n",
      "│ 0 │ f     │   0.101   │   0.028   │            │            │         │         │       │\n",
      "│ 1 │ lam   │   0.51    │   0.34    │            │            │         │         │       │\n",
      "│ 2 │ mu    │   5.280   │   0.006   │            │            │         │         │       │\n",
      "│ 3 │ sigma │   0.018   │   0.006   │            │            │         │         │       │\n",
      "└───┴───────┴───────────┴───────────┴────────────┴────────────┴─────────┴─────────┴───────┘\n",
      "┌───────┬─────────────────────────────────────────┐\n",
      "│       │         f       lam        mu     sigma │\n",
      "├───────┼─────────────────────────────────────────┤\n",
      "│     f │  0.000814 -9.74e-05 -1.35e-06  7.42e-05 │\n",
      "│   lam │ -9.74e-05     0.112  8.55e-05 -1.37e-05 │\n",
      "│    mu │ -1.35e-06  8.55e-05  3.25e-05 -2.75e-07 │\n",
      "│ sigma │  7.42e-05 -1.37e-05 -2.75e-07  3.12e-05 │\n",
      "└───────┴─────────────────────────────────────────┘\n",
      "┌─────────────────────────────────────────────────────────────────────────┐\n",
      "│                                Migrad                                   │\n",
      "├──────────────────────────────────┬──────────────────────────────────────┤\n",
      "│ FCN = 23.08 (chi2/ndof = 0.1)    │              Nfcn = 104              │\n",
      "│ EDM = 2.89e-12 (Goal: 0.0002)    │                                      │\n",
      "├──────────────────────────────────┼──────────────────────────────────────┤\n",
      "│          Valid Minimum           │        No Parameters at limit        │\n",
      "├──────────────────────────────────┼──────────────────────────────────────┤\n",
      "│ Below EDM threshold (goal x 10)  │           Below call limit           │\n",
      "├───────────────┬──────────────────┼───────────┬─────────────┬────────────┤\n",
      "│  Covariance   │     Hesse ok     │ Accurate  │  Pos. def.  │ Not forced │\n",
      "└───────────────┴──────────────────┴───────────┴─────────────┴────────────┘\n",
      "┌───┬───────┬───────────┬───────────┬────────────┬────────────┬─────────┬─────────┬───────┐\n",
      "│   │ Name  │   Value   │ Hesse Err │ Minos Err- │ Minos Err+ │ Limit-  │ Limit+  │ Fixed │\n",
      "├───┼───────┼───────────┼───────────┼────────────┼────────────┼─────────┼─────────┼───────┤\n",
      "│ 0 │ f     │   0.000   │   0.028   │            │            │         │         │  yes  │\n",
      "│ 1 │ lam   │   0.53    │   0.32    │            │            │         │         │       │\n",
      "│ 2 │ mu    │   5.280   │   0.006   │            │            │         │         │  yes  │\n",
      "│ 3 │ sigma │   0.018   │   0.006   │            │            │         │         │  yes  │\n",
      "└───┴───────┴───────────┴───────────┴────────────┴────────────┴─────────┴─────────┴───────┘\n",
      "┌───────┬─────────────────────────┐\n",
      "│       │     f   lam    mu sigma │\n",
      "├───────┼─────────────────────────┤\n",
      "│     f │     0     0     0     0 │\n",
      "│   lam │     0 0.101     0     0 │\n",
      "│    mu │     0     0     0     0 │\n",
      "│ sigma │     0     0     0     0 │\n",
      "└───────┴─────────────────────────┘\n"
     ]
    },
    {
     "data": {
      "text/plain": [
       "(False, 4.59195039424652)"
      ]
     },
     "execution_count": 9,
     "metadata": {},
     "output_type": "execute_result"
    }
   ],
   "source": [
    "from generation import generate_from_total_pdf\n",
    "from distributions import total_cdf, total_model, background_model\n",
    "from hypothesis_test import NP_test\n",
    "\n",
    "true_params = {'f': 0.1, 'lam': 0.5, 'mu': 5.28, 'sigma': 0.018}\n",
    "\n",
    "N_events = 100000\n",
    "dataset = generate_from_total_pdf(N_events)\n",
    "\n",
    "NP_test(dataset=dataset, cdf=total_cdf, bins=200, starting_params=true_params)\n"
   ]
  },
  {
   "cell_type": "markdown",
   "metadata": {},
   "source": [
    "## Binomial dataset\n",
    "\n",
    "After conducting hypothesis test on all datasets for a given $N_i$, we have essentailly conducted a Bernoulli trial, where the number of discoveries (successes), `r`, is binomially distributed, except the probability of success, $p_N$, is unknown. \n",
    "\n",
    "We estimate $\\hat{p_i} = r/n$, where $n$ is the number of trials\n",
    "\n",
    "And the standard error on this estimate is $\\hat{\\sigma_i} = \\sqrt{\\frac{\\hat{p_i}(1-\\hat{p_i})}{n_i}}$\n",
    "\n",
    "Alternatively could we construct a confidence belt???"
   ]
  },
  {
   "cell_type": "markdown",
   "metadata": {},
   "source": [
    "## p vs N\n",
    "\n",
    "Once we have our dataset of $\\{ N_i, \\hat{p_i} \\pm \\hat{\\sigma_i} \\}$, we can plot $p$ vs $N$, fit a line of best fit.\n",
    "\n",
    "We would need to justify the line we fit. Eg. if we fit a straight line, why would there be a linear relationship between $N$ and $p$?\n",
    "\n",
    "The line of best fit should go through 68.3% of the confidence intervals. We will discuss whether this happens.\n",
    "\n",
    "Predict $N_{discovery}$ (value of $N$ for $p=0.9$), as well as an uncertainty on $N_{discovery}$"
   ]
  },
  {
   "cell_type": "code",
   "execution_count": null,
   "metadata": {},
   "outputs": [],
   "source": []
  }
 ],
 "metadata": {
  "kernelspec": {
   "display_name": "pds",
   "language": "python",
   "name": "python3"
  },
  "language_info": {
   "codemirror_mode": {
    "name": "ipython",
    "version": 3
   },
   "file_extension": ".py",
   "mimetype": "text/x-python",
   "name": "python",
   "nbconvert_exporter": "python",
   "pygments_lexer": "ipython3",
   "version": "3.12.0"
  }
 },
 "nbformat": 4,
 "nbformat_minor": 2
}
