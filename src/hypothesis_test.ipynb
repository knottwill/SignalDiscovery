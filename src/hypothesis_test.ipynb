{
 "cells": [
  {
   "cell_type": "code",
   "execution_count": 48,
   "metadata": {},
   "outputs": [
    {
     "name": "stdout",
     "output_type": "stream",
     "text": [
      "Generated 1000 events in 0.001813s\n"
     ]
    }
   ],
   "source": [
    "from generation import generate_from_total_pdf\n",
    "from distributions import total_cdf, total_model, background_model\n",
    "from hypothesis_test import NP_test\n",
    "import matplotlib.pyplot as plt\n",
    "from pytest import approx\n",
    "\n",
    "true_params = {'f': 0.1, 'lam': 0.5, 'mu': 5.28, 'sigma': 0.018}\n",
    "\n",
    "N_events = 1000\n",
    "dataset = generate_from_total_pdf(N_events)"
   ]
  },
  {
   "cell_type": "code",
   "execution_count": 49,
   "metadata": {},
   "outputs": [],
   "source": [
    "import numpy as np\n",
    "from scipy.stats import chi2, norm\n",
    "from iminuit import Minuit\n",
    "from iminuit.cost import UnbinnedNLL, BinnedNLL"
   ]
  },
  {
   "cell_type": "code",
   "execution_count": 50,
   "metadata": {},
   "outputs": [],
   "source": [
    "# from hypothesis_test import NP_test\n",
    "\n",
    "# NP_test(dataset, total_cdf, 1000, true_params)"
   ]
  },
  {
   "cell_type": "code",
   "execution_count": 51,
   "metadata": {},
   "outputs": [],
   "source": [
    "dataset = dataset\n",
    "cdf = total_cdf\n",
    "starting_params = true_params"
   ]
  },
  {
   "cell_type": "code",
   "execution_count": 52,
   "metadata": {},
   "outputs": [],
   "source": [
    "# choosing the number of bins\n",
    "bins = int(np.sqrt(len(dataset)))"
   ]
  },
  {
   "cell_type": "code",
   "execution_count": 53,
   "metadata": {},
   "outputs": [],
   "source": [
    "# Bin the dataset\n",
    "bin_density, bin_edges = np.histogram(dataset, bins=bins, density=True)\n",
    "\n",
    "# Calculate bin midpoints\n",
    "midpoints = 0.5 * (bin_edges[:-1] + bin_edges[1:])"
   ]
  },
  {
   "cell_type": "code",
   "execution_count": 54,
   "metadata": {},
   "outputs": [
    {
     "name": "stdout",
     "output_type": "stream",
     "text": [
      "┌─────────────────────────────────────────────────────────────────────────┐\n",
      "│                                Migrad                                   │\n",
      "├──────────────────────────────────┬──────────────────────────────────────┤\n",
      "│ FCN = 1.513 (chi2/ndof = 0.1)    │              Nfcn = 94               │\n",
      "│ EDM = 3.77e-05 (Goal: 0.0002)    │                                      │\n",
      "├──────────────────────────────────┼──────────────────────────────────────┤\n",
      "│          Valid Minimum           │        No Parameters at limit        │\n",
      "├──────────────────────────────────┼──────────────────────────────────────┤\n",
      "│ Below EDM threshold (goal x 10)  │           Below call limit           │\n",
      "├───────────────┬──────────────────┼───────────┬─────────────┬────────────┤\n",
      "│  Covariance   │     Hesse ok     │ Accurate  │  Pos. def.  │ Not forced │\n",
      "└───────────────┴──────────────────┴───────────┴─────────────┴────────────┘\n",
      "┌───┬───────┬───────────┬───────────┬────────────┬────────────┬─────────┬─────────┬───────┐\n",
      "│   │ Name  │   Value   │ Hesse Err │ Minos Err- │ Minos Err+ │ Limit-  │ Limit+  │ Fixed │\n",
      "├───┼───────┼───────────┼───────────┼────────────┼────────────┼─────────┼─────────┼───────┤\n",
      "│ 0 │ f     │   0.08    │   0.07    │            │            │         │         │       │\n",
      "│ 1 │ lam   │    0.6    │    0.8    │            │            │         │         │       │\n",
      "│ 2 │ mu    │   5.280   │   0.015   │            │            │         │         │       │\n",
      "│ 3 │ sigma │   0.015   │   0.016   │            │            │         │         │       │\n",
      "└───┴───────┴───────────┴───────────┴────────────┴────────────┴─────────┴─────────┴───────┘\n",
      "┌───────┬─────────────────────────────────────────┐\n",
      "│       │         f       lam        mu     sigma │\n",
      "├───────┼─────────────────────────────────────────┤\n",
      "│     f │   0.00449 -0.000387 -8.15e-05  0.000534 │\n",
      "│   lam │ -0.000387     0.705  0.000479 -0.000125 │\n",
      "│    mu │ -8.15e-05  0.000479   0.00023 -3.46e-05 │\n",
      "│ sigma │  0.000534 -0.000125 -3.46e-05  0.000268 │\n",
      "└───────┴─────────────────────────────────────────┘\n",
      "┌─────────────────────────────────────────────────────────────────────────┐\n",
      "│                                Migrad                                   │\n",
      "├──────────────────────────────────┬──────────────────────────────────────┤\n",
      "│ FCN = 3.956 (chi2/ndof = 0.1)    │              Nfcn = 110              │\n",
      "│ EDM = 2.7e-16 (Goal: 0.0002)     │                                      │\n",
      "├──────────────────────────────────┼──────────────────────────────────────┤\n",
      "│          Valid Minimum           │        No Parameters at limit        │\n",
      "├──────────────────────────────────┼──────────────────────────────────────┤\n",
      "│ Below EDM threshold (goal x 10)  │           Below call limit           │\n",
      "├───────────────┬──────────────────┼───────────┬─────────────┬────────────┤\n",
      "│  Covariance   │     Hesse ok     │ Accurate  │  Pos. def.  │ Not forced │\n",
      "└───────────────┴──────────────────┴───────────┴─────────────┴────────────┘\n",
      "┌───┬───────┬───────────┬───────────┬────────────┬────────────┬─────────┬─────────┬───────┐\n",
      "│   │ Name  │   Value   │ Hesse Err │ Minos Err- │ Minos Err+ │ Limit-  │ Limit+  │ Fixed │\n",
      "├───┼───────┼───────────┼───────────┼────────────┼────────────┼─────────┼─────────┼───────┤\n",
      "│ 0 │ f     │   0.00    │   0.07    │            │            │         │         │  yes  │\n",
      "│ 1 │ lam   │    0.6    │    0.8    │            │            │         │         │       │\n",
      "│ 2 │ mu    │   5.280   │   0.015   │            │            │         │         │  yes  │\n",
      "│ 3 │ sigma │   0.015   │   0.016   │            │            │         │         │  yes  │\n",
      "└───┴───────┴───────────┴───────────┴────────────┴────────────┴─────────┴─────────┴───────┘\n",
      "┌───────┬─────────────────────────┐\n",
      "│       │     f   lam    mu sigma │\n",
      "├───────┼─────────────────────────┤\n",
      "│     f │     0     0     0     0 │\n",
      "│   lam │     0 0.649     0     0 │\n",
      "│    mu │     0     0     0     0 │\n",
      "│ sigma │     0     0     0     0 │\n",
      "└───────┴─────────────────────────┘\n"
     ]
    }
   ],
   "source": [
    "# Cost function is binned negative log likelihood\n",
    "binned_nll = BinnedNLL(bin_density, bin_edges, cdf)\n",
    "\n",
    "# Minimisation object\n",
    "mi = Minuit(binned_nll, **starting_params)\n",
    "\n",
    "#####################################\n",
    "# Run the fit for the alternate hypothesis\n",
    "#####################################\n",
    "\n",
    "# Run minimisation and Hesse algorithm\n",
    "mi.migrad()\n",
    "mi.hesse()\n",
    "\n",
    "# Parameter values for total model fit\n",
    "h1_params = list(mi.values)\n",
    "\n",
    "# Negative log likelihood for the dataset given the alternate hypothesis \n",
    "h1_nll = mi.fval\n",
    "\n",
    "print(mi)\n",
    "\n",
    "#####################################\n",
    "# Run the fit for the null hypothesis\n",
    "#####################################\n",
    "\n",
    "# Set parameters such that we fit background-only model\n",
    "mi.values['f'] = 0\n",
    "mi.fixed['f'] = True\n",
    "mi.fixed['mu'] = True\n",
    "mi.fixed['sigma'] = True\n",
    "\n",
    "# Run minimisation and Hesse algorithm\n",
    "mi.migrad()\n",
    "mi.hesse()\n",
    "\n",
    "# Parameter values for background-only fit\n",
    "h0_params = list(mi.values)\n",
    "\n",
    "# negative log likelihood for the dataset given the null hypothesis \n",
    "h0_nll = mi.fval\n",
    "\n",
    "print(mi)"
   ]
  },
  {
   "cell_type": "code",
   "execution_count": 55,
   "metadata": {},
   "outputs": [
    {
     "data": {
      "text/plain": [
       "[0.07741492589782303,\n",
       " 0.6196235397598309,\n",
       " 5.2800993010133705,\n",
       " 0.014703339961620262]"
      ]
     },
     "execution_count": 55,
     "metadata": {},
     "output_type": "execute_result"
    }
   ],
   "source": [
    "h1_params"
   ]
  },
  {
   "cell_type": "code",
   "execution_count": 56,
   "metadata": {},
   "outputs": [
    {
     "data": {
      "text/plain": [
       "<matplotlib.legend.Legend at 0x1445e23c0>"
      ]
     },
     "execution_count": 56,
     "metadata": {},
     "output_type": "execute_result"
    },
    {
     "data": {
      "image/png": "[encoded data removed]",
      "text/plain": [
       "<Figure size 640x480 with 1 Axes>"
      ]
     },
     "metadata": {},
     "output_type": "display_data"
    }
   ],
   "source": [
    "fig, ax = plt.subplots()\n",
    "\n",
    "# Plotting bin count vs midpoints\n",
    "ax.scatter(midpoints, bin_density, label='Dataset', marker='o')\n",
    "# ax.plot(midpoints, total_model(midpoints, **true_params), label='True model', color='red')\n",
    "ax.plot(midpoints, total_model(midpoints, *h0_params), label='H0', color='red')\n",
    "ax.plot(midpoints, total_model(midpoints, *h1_params), label='H1', color='orange')\n",
    "\n",
    "ax.set_xlabel('M')\n",
    "ax.set_ylabel('Bin Density')\n",
    "ax.set_title(f'{N_events} total events')\n",
    "\n",
    "ax.legend()"
   ]
  },
  {
   "cell_type": "code",
   "execution_count": 57,
   "metadata": {},
   "outputs": [],
   "source": [
    "T = 2*(h0_nll - h1_nll) # test statistic\n",
    "k = 1               # degrees of freedom\n",
    "\n",
    "# Calculate p value\n",
    "p_value = 1 - chi2.cdf(T, k) \n",
    "\n",
    "# Calculate significance (it is a one-sided test)\n",
    "Z = norm.ppf(1 - p_value)\n",
    "\n",
    "# Alternate way to calculate Z for a one-sided test\n",
    "alternate_Z = np.sqrt(chi2.ppf(1 - 2*p_value,1))\n",
    "assert(Z == approx(alternate_Z))\n",
    "\n",
    "# If we get a significance greater than 5, we have 'discovered' the signal\n",
    "if Z >= 5:\n",
    "    discovery = True\n",
    "else:\n",
    "    discovery = False"
   ]
  },
  {
   "cell_type": "code",
   "execution_count": 58,
   "metadata": {},
   "outputs": [
    {
     "data": {
      "text/plain": [
       "1.9251688299000747"
      ]
     },
     "execution_count": 58,
     "metadata": {},
     "output_type": "execute_result"
    }
   ],
   "source": [
    "Z"
   ]
  },
  {
   "cell_type": "code",
   "execution_count": 59,
   "metadata": {},
   "outputs": [
    {
     "data": {
      "text/plain": [
       "1.9251688299000747"
      ]
     },
     "execution_count": 59,
     "metadata": {},
     "output_type": "execute_result"
    }
   ],
   "source": [
    "norm.ppf(1 - p_value)"
   ]
  },
  {
   "cell_type": "code",
   "execution_count": null,
   "metadata": {},
   "outputs": [],
   "source": []
  },
  {
   "cell_type": "code",
   "execution_count": null,
   "metadata": {},
   "outputs": [],
   "source": []
  }
 ],
 "metadata": {
  "kernelspec": {
   "display_name": "pds",
   "language": "python",
   "name": "python3"
  },
  "language_info": {
   "codemirror_mode": {
    "name": "ipython",
    "version": 3
   },
   "file_extension": ".py",
   "mimetype": "text/x-python",
   "name": "python",
   "nbconvert_exporter": "python",
   "pygments_lexer": "ipython3",
   "version": "3.12.0"
  }
 },
 "nbformat": 4,
 "nbformat_minor": 2
}
