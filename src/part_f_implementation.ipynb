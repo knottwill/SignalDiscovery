{
 "cells": [
  {
   "cell_type": "code",
   "execution_count": 1,
   "metadata": {},
   "outputs": [],
   "source": [
    "import sys \n",
    "sys.path.append('/Users/willknott/Desktop/DIS/coursework/pds/wdk24/src')\n",
    "\n",
    "%load_ext autoreload\n",
    "%autoreload 2\n",
    "\n",
    "import numpy as np\n",
    "import matplotlib.pyplot as plt"
   ]
  },
  {
   "cell_type": "code",
   "execution_count": 2,
   "metadata": {},
   "outputs": [],
   "source": [
    "from generation import generate_from_total_pdf\n",
    "from distributions import total_cdf\n",
    "from hypothesis_test import signal_background_test"
   ]
  },
  {
   "cell_type": "code",
   "execution_count": 3,
   "metadata": {},
   "outputs": [],
   "source": [
    "# True parameter values\n",
    "true_params = {'f': 0.1, 'lam': 0.5, 'mu': 5.28, 'sigma': 0.018}\n",
    "\n",
    "# Upper & Lower bound of M\n",
    "alpha = 5\n",
    "beta = 5.6\n",
    "\n",
    "random_shifts = {\n",
    "    'f': np.random.uniform(-0.09, 0.5), \n",
    "    'lam': np.random.uniform(-0.3, 1), \n",
    "    'mu': np.random.uniform(-0.25, 0.3), \n",
    "    'sigma': np.random.uniform(-0.01, 0.03)\n",
    "}\n",
    "\n",
    "# Creating starting parameters\n",
    "starting_params = {}\n",
    "for param in true_params:\n",
    "    starting_params[param] = true_params[param] + random_shifts[param]\n",
    "    starting_params[param] = float(f'{starting_params[param]:.4}')"
   ]
  },
  {
   "cell_type": "code",
   "execution_count": 4,
   "metadata": {},
   "outputs": [],
   "source": [
    "n_datapoints = 40\n",
    "Ns = np.logspace(1, 6, num=n_datapoints).astype(int)\n",
    "n_init = 25\n",
    "ns = np.array([n_init for _ in range(n_datapoints)])\n",
    "\n",
    "all_data = [np.array([generate_from_total_pdf(N) for _ in range(n_init)]) for N in Ns]\n"
   ]
  },
  {
   "cell_type": "code",
   "execution_count": 5,
   "metadata": {},
   "outputs": [],
   "source": [
    "def error_on_p(p, n):\n",
    "    return np.sqrt((p*(1-p))/n)"
   ]
  },
  {
   "cell_type": "code",
   "execution_count": 6,
   "metadata": {},
   "outputs": [
    {
     "name": "stderr",
     "output_type": "stream",
     "text": [
      "/Users/willknott/Desktop/DIS/coursework/pds/wdk24/src/distributions.py:115: RuntimeWarning: divide by zero encountered in scalar divide\n",
      "  background_factor = 1/(expon.cdf(x=beta, scale=1/lam) - expon.cdf(x=alpha, scale=1/lam))\n",
      "/Users/willknott/Desktop/DIS/coursework/pds/wdk24/src/distributions.py:118: RuntimeWarning: invalid value encountered in multiply\n",
      "  background_cdf = background_factor*(expon.cdf(x=M, scale=1/lam) - expon.cdf(x=alpha, scale=1/lam))\n",
      "/Users/willknott/Desktop/DIS/coursework/pds/wdk24/src/distributions.py:114: RuntimeWarning: divide by zero encountered in scalar divide\n",
      "  signal_factor = 1/(norm.cdf(x=beta, loc=mu, scale=sigma) - norm.cdf(x=alpha, loc=mu, scale=sigma))\n",
      "/Users/willknott/Desktop/DIS/coursework/pds/wdk24/src/distributions.py:117: RuntimeWarning: invalid value encountered in multiply\n",
      "  signal_cdf = signal_factor*(norm.cdf(x=M, loc=mu, scale=sigma) - norm.cdf(x=alpha, loc=mu, scale=sigma))\n"
     ]
    }
   ],
   "source": [
    "Ps = []\n",
    "P_errs = []\n",
    "for i, group_i in enumerate(all_data):\n",
    "\n",
    "    r_discoveries = 0\n",
    "    for dataset in group_i:\n",
    "        discovery, _, _ = signal_background_test(dataset=dataset, cdf=total_cdf, starting_params=starting_params)\n",
    "        if discovery:\n",
    "            r_discoveries += 1\n",
    "    p = r_discoveries/ns[i]\n",
    "    Ps.append(p)\n",
    "    P_errs.append(error_on_p(p, ns[i]))"
   ]
  },
  {
   "cell_type": "code",
   "execution_count": null,
   "metadata": {},
   "outputs": [
    {
     "name": "stdout",
     "output_type": "stream",
     "text": [
      "[0.0, 0.0, 0.04, 0.04, 0.0, 0.0, 0.0, 0.0, 0.0, 0.0, 0.0, 0.0, 0.0, 0.0, 0.0, 0.0, 0.0, 0.0, 0.0, 0.0, 0.0, 0.0, 0.0, 0.0, 0.0, 0.0, 0.0, 0.0, 0.0, 0.12, 1.0, 1.0, 1.0, 1.0, 1.0, 1.0, 1.0, 1.0, 1.0, 1.0]\n",
      "[0.0, 0.0, 0.039191835884530846, 0.039191835884530846, 0.0, 0.0, 0.0, 0.0, 0.0, 0.0, 0.0, 0.0, 0.0, 0.0, 0.0, 0.0, 0.0, 0.0, 0.0, 0.0, 0.0, 0.0, 0.0, 0.0, 0.0, 0.0, 0.0, 0.0, 0.0, 0.06499230723708768, 0.0, 0.0, 0.0, 0.0, 0.0, 0.0, 0.0, 0.0, 0.0, 0.0]\n"
     ]
    }
   ],
   "source": [
    "print(Ps)\n",
    "print(P_errs)"
   ]
  },
  {
   "cell_type": "code",
   "execution_count": null,
   "metadata": {},
   "outputs": [],
   "source": [
    "# successes = []\n",
    "# for N_i in Ns:\n",
    "#     n_discoveries = 0\n",
    "#     for _ in range(n_init):\n",
    "#         dataset = generate_from_total_pdf(N_i)\n",
    "\n",
    "#         discovery, _, _ = signal_background_test(dataset=dataset, cdf=total_cdf, starting_params=starting_params)\n",
    "\n",
    "#         if discovery:\n",
    "#             n_discoveries += 1\n",
    "#     successes.append(n_discoveries)\n",
    "\n",
    "dict(zip(Ns, successes))"
   ]
  },
  {
   "cell_type": "markdown",
   "metadata": {},
   "source": [
    "# Finding `N_90`"
   ]
  },
  {
   "cell_type": "markdown",
   "metadata": {},
   "source": []
  }
 ],
 "metadata": {
  "kernelspec": {
   "display_name": "pds",
   "language": "python",
   "name": "python3"
  },
  "language_info": {
   "codemirror_mode": {
    "name": "ipython",
    "version": 3
   },
   "file_extension": ".py",
   "mimetype": "text/x-python",
   "name": "python",
   "nbconvert_exporter": "python",
   "pygments_lexer": "ipython3",
   "version": "3.12.0"
  }
 },
 "nbformat": 4,
 "nbformat_minor": 2
}
