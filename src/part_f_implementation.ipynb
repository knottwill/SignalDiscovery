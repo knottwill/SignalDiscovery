{
 "cells": [
  {
   "cell_type": "code",
   "execution_count": 3,
   "metadata": {},
   "outputs": [],
   "source": [
    "import sys \n",
    "sys.path.append('/Users/willknott/Desktop/DIS/coursework/pds/wdk24/src')\n",
    "\n",
    "%load_ext autoreload\n",
    "%autoreload 2\n",
    "\n",
    "import numpy as np\n",
    "import matplotlib.pyplot as plt"
   ]
  },
  {
   "cell_type": "code",
   "execution_count": 4,
   "metadata": {},
   "outputs": [],
   "source": [
    "from generation import generate_from_total_pdf\n",
    "from generation import generate_from_total_pdf\n",
    "from generation import generate_from_total_pdf\n",
    "from distributions import total_cdf, total_pdf\n",
    "from distributions import total_cdf, total_pdf\n",
    "from distributions import total_cdf, total_pdf\n",
    "from hypothesis_test import signal_background_test\n",
    "from hypothesis_test import signal_background_test\n",
    "from hypothesis_test import signal_background_test"
   ]
  },
  {
   "cell_type": "code",
   "execution_count": 5,
   "metadata": {},
   "outputs": [],
   "source": [
    "# True parameter values\n",
    "true_params, alpha, beta = {'f': 0.1, 'lam': 0.5, 'mu': 5.28, 'sigma': 0.018}, 5, 5.6\n",
    "random_shifts = {\n",
    "    'f': np.random.uniform(-0.09, 0.5), \n",
    "    'lam': np.random.uniform(-0.3, 1), \n",
    "    'mu': np.random.uniform(-0.25, 0.3), \n",
    "    'sigma': np.random.uniform(-0.01, 0.03)\n",
    "}\n",
    "starting_params = {}\n",
    "for param in true_params:\n",
    "    starting_params[param] = true_params[param] + random_shifts[param]\n",
    "    starting_params[param] = float(f'{starting_params[param]:.4}')"
   ]
  },
  {
   "cell_type": "code",
   "execution_count": 9,
   "metadata": {},
   "outputs": [],
   "source": [
    "n_datapoints = 10\n",
    "n_init = 2000\n",
    "N = np.logspace(1, 6, num=n_datapoints).astype(int)\n",
    "N = np.linspace(600, 1000, n_datapoints).astype(int)\n",
    "\n",
    "all_data = [np.array([generate_from_total_pdf(N_events) for _ in range(n_init)]) for N_events in N]\n"
   ]
  },
  {
   "cell_type": "code",
   "execution_count": 10,
   "metadata": {},
   "outputs": [],
   "source": [
    "def error_on_p(p, n):\n",
    "    return np.sqrt((p*(1-p))/n)"
   ]
  },
  {
   "cell_type": "markdown",
   "metadata": {},
   "source": [
    "### Hypothesis Testing"
   ]
  },
  {
   "cell_type": "code",
   "execution_count": 11,
   "metadata": {},
   "outputs": [
    {
     "name": "stdout",
     "output_type": "stream",
     "text": [
      "Warning: valid minimum NOT FOUND for H1\n",
      "┌─────────────────────────────────────────────────────────────────────────┐\n",
      "│                                Migrad                                   │\n",
      "├──────────────────────────────────┬──────────────────────────────────────┤\n",
      "│ FCN = -799                       │              Nfcn = 158              │\n",
      "│ EDM = 0.00672 (Goal: 0.0002)     │                                      │\n",
      "├──────────────────────────────────┼──────────────────────────────────────┤\n",
      "│         INVALID Minimum          │       SOME Parameters at limit       │\n",
      "├──────────────────────────────────┼──────────────────────────────────────┤\n",
      "│ ABOVE EDM threshold (goal x 10)  │           Below call limit           │\n",
      "├───────────────┬──────────────────┼───────────┬─────────────┬────────────┤\n",
      "│  Covariance   │     Hesse ok     │APPROXIMATE│NOT pos. def.│   FORCED   │\n",
      "└───────────────┴──────────────────┴───────────┴─────────────┴────────────┘\n",
      "┌───┬───────┬───────────┬───────────┬────────────┬────────────┬─────────┬─────────┬───────┐\n",
      "│   │ Name  │   Value   │ Hesse Err │ Minos Err- │ Minos Err+ │ Limit-  │ Limit+  │ Fixed │\n",
      "├───┼───────┼───────────┼───────────┼────────────┼────────────┼─────────┼─────────┼───────┤\n",
      "│ 0 │ f     │    0.0    │    0.9    │            │            │    0    │    1    │       │\n",
      "│ 1 │ lam   │   0.47    │   0.09    │            │            │    0    │         │       │\n",
      "│ 2 │ mu    │    5.2    │    0.4    │            │            │    5    │   5.6   │       │\n",
      "│ 3 │ sigma │   0.03    │   0.24    │            │            │    0    │   0.3   │       │\n",
      "└───┴───────┴───────────┴───────────┴────────────┴────────────┴─────────┴─────────┴───────┘\n",
      "┌───────┬─────────────────────────────────────────┐\n",
      "│       │         f       lam        mu     sigma │\n",
      "├───────┼─────────────────────────────────────────┤\n",
      "│     f │  1.16e-07 -6.18e-08     0.218     0.046 │\n",
      "│   lam │ -6.18e-08   0.00794    -0.115   -0.0245 │\n",
      "│    mu │     0.218    -0.115  4.13e+05  8.61e+04 │\n",
      "│ sigma │     0.046   -0.0245  8.61e+04  1.83e+04 │\n",
      "└───────┴─────────────────────────────────────────┘\n"
     ]
    }
   ],
   "source": [
    "P = []\n",
    "P_err = []\n",
    "validities = []\n",
    "ns = []\n",
    "for i, group_i in enumerate(all_data):\n",
    "    n_i = n_init\n",
    "\n",
    "    r_discoveries = 0\n",
    "    for dataset in group_i:\n",
    "\n",
    "        discovery, _, _ = signal_background_test(dataset=dataset, pdf=total_pdf, cdf=total_cdf, binned=False, starting_params=starting_params)\n",
    "\n",
    "        if discovery=='invalid minimum':\n",
    "            n_i -= 1\n",
    "\n",
    "        if discovery==True:\n",
    "            r_discoveries += 1\n",
    "\n",
    "    ns.append(n_i)\n",
    "\n",
    "    p = r_discoveries/n_i\n",
    "    P.append(p)\n",
    "    P_err.append(error_on_p(p, n_i))"
   ]
  },
  {
   "cell_type": "code",
   "execution_count": 12,
   "metadata": {},
   "outputs": [],
   "source": [
    "# successes = []\n",
    "# for N_i in Ns:\n",
    "#     n_discoveries = 0\n",
    "#     for _ in range(n_init):\n",
    "#         dataset = generate_from_total_pdf(N_i)\n",
    "\n",
    "#         discovery, _, _ = signal_background_test(dataset=dataset, cdf=total_cdf, starting_params=starting_params)\n",
    "\n",
    "#         if discovery:\n",
    "#             n_discoveries += 1\n",
    "#     successes.append(n_discoveries)\n",
    "\n",
    "# dict(zip(Ns, successes))"
   ]
  },
  {
   "cell_type": "markdown",
   "metadata": {},
   "source": [
    "# Finding `N_90`"
   ]
  },
  {
   "cell_type": "code",
   "execution_count": 13,
   "metadata": {},
   "outputs": [
    {
     "name": "stdout",
     "output_type": "stream",
     "text": [
      "[ 600  644  688  733  777  822  866  911  955 1000]\n",
      "[0.25, 0.2, 0.2, 0.35, 0.2631578947368421, 0.3, 0.3, 0.35, 0.35, 0.25]\n",
      "[0.09682458365518543, 0.0894427190999916, 0.0894427190999916, 0.1066536450385077, 0.10102261788814665, 0.10246950765959598, 0.10246950765959598, 0.1066536450385077, 0.1066536450385077, 0.09682458365518543]\n"
     ]
    }
   ],
   "source": [
    "print(N)\n",
    "print(P)\n",
    "print(P_err)\n",
    "N, P, P_err = np.array(N), np.array(P), np.array(P_err)"
   ]
  },
  {
   "cell_type": "code",
   "execution_count": 14,
   "metadata": {},
   "outputs": [],
   "source": [
    "# import pickle \n",
    "\n",
    "# data_to_save = {\n",
    "#     'N': N,\n",
    "#     'P': P,\n",
    "#     'P_err': P_err\n",
    "# }\n",
    "\n",
    "# # Save the data to a pickle file\n",
    "# with open('PN_data.pkl', 'wb') as file:\n",
    "#     pickle.dump(data_to_save, file)"
   ]
  },
  {
   "cell_type": "code",
   "execution_count": 15,
   "metadata": {},
   "outputs": [
    {
     "data": {
      "text/plain": [
       "<matplotlib.legend.Legend at 0x15e077bf0>"
      ]
     },
     "execution_count": 15,
     "metadata": {},
     "output_type": "execute_result"
    },
    {
     "data": {
      "image/png": "[encoded data removed]",
      "text/plain": [
       "<Figure size 640x480 with 1 Axes>"
      ]
     },
     "metadata": {},
     "output_type": "display_data"
    }
   ],
   "source": [
    "reduced_N = N*1e-5\n",
    "\n",
    "fig, ax = plt.subplots()\n",
    "ax.errorbar(N, P, yerr=P_err, fmt='o', ecolor='red', capsize=3, label='Probability vs. Dataset Size')\n",
    "ax.set_xlabel('N')\n",
    "ax.set_ylabel('Probability of Discovering Signal (P)')\n",
    "ax.set_title('Probability vs. Dataset Size')\n",
    "ax.legend()"
   ]
  },
  {
   "cell_type": "code",
   "execution_count": 12,
   "metadata": {},
   "outputs": [
    {
     "data": {
      "text/plain": [
       "{'a': '(-4.83e-13, 3.02e-17)',\n",
       " 'b': '(8.11e-08, 5.31e-12)',\n",
       " 'c': '(-0.00445, 3.08e-07)',\n",
       " 'd': '(79.8, 0.00593)'}"
      ]
     },
     "execution_count": 12,
     "metadata": {},
     "output_type": "execute_result"
    },
    {
     "data": {
      "image/png": "[encoded data removed]",
      "text/plain": [
       "<Figure size 640x480 with 1 Axes>"
      ]
     },
     "metadata": {},
     "output_type": "display_data"
    }
   ],
   "source": [
    "import numpy as np\n",
    "from scipy.optimize import curve_fit\n",
    "import matplotlib.pyplot as plt\n",
    "\n",
    "def third_degree(x, a, b, c, d):\n",
    "    return a*(x**3) + b*(x**2) + c*x + d \n",
    "def fourth_degree(x, a, b, c, d, e):\n",
    "    return a*(x**4) + b*(x**3) + c*(x**2) + d*x + e\n",
    "\n",
    "# Replace 0 uncertainties with 0.00001 so as to \n",
    "# not produce errors in the least squares estimation\n",
    "P_err[P_err == 0.0] = 0.00001\n",
    "\n",
    "# ------------------\n",
    "# should maybe use starting values\n",
    "# ------------------\n",
    "popt, pcov = curve_fit(third_degree, N, P, sigma=P_err, absolute_sigma=True)\n",
    "\n",
    "fig, ax = plt.subplots()\n",
    "\n",
    "# Plotting\n",
    "ax.errorbar(N, P, yerr=P_err, fmt='o', label='Data')\n",
    "ax.plot(N, third_degree(N, *popt), label='Fitted line')\n",
    "ax.set_xlabel('N')\n",
    "ax.set_ylabel('P')\n",
    "ax.legend()\n",
    "\n",
    "a, b, c, d = popt\n",
    "a_err, b_err, c_err, d_err = np.sqrt(np.diag(pcov))\n",
    "\n",
    "parameter_estimates = {\n",
    "    'a': f'({a:.3}, {a_err:.3})',\n",
    "    'b': f'({b:.3}, {b_err:.3})',\n",
    "    'c': f'({c:.3}, {c_err:.3})',\n",
    "    'd': f'({d:.3}, {d_err:.3})'\n",
    "}\n",
    "\n",
    "parameter_estimates"
   ]
  },
  {
   "cell_type": "code",
   "execution_count": null,
   "metadata": {},
   "outputs": [],
   "source": [
    "# from iminuit import Minuit\n",
    "\n",
    "# N = reduced_N\n",
    "\n",
    "# # Define the linear model\n",
    "# def linear_model(N, m, b):\n",
    "#     return m * N + b\n",
    "\n",
    "# # Define the chi-squared function\n",
    "# def chi2_linear(m, b):\n",
    "#     return np.sum(((P - linear_model(N, m, b)) / P_err) ** 2)\n",
    "\n",
    "# # Perform the minimization\n",
    "# mi = Minuit(chi2_linear, m=3, b=-1)\n",
    "# mi.limits['b'] = (-3, 1)\n",
    "# mi.limits['m'] = (1, 20)\n",
    "# mi.errordef = Minuit.LEAST_SQUARES\n",
    "# mi.migrad()  # finds minimum of chi-square function\n",
    "\n",
    "# # Get parameters and errors\n",
    "# m_fit = mi.values['m']\n",
    "# b_fit = mi.values['b']\n",
    "# m_err = mi.errors['m']\n",
    "# b_err = mi.errors['b']\n",
    "\n",
    "# # Plotting\n",
    "# plt.errorbar(N, P, yerr=P_err, fmt='o', label='Data')\n",
    "# plt.plot(N, linear_model(N, *mi.values), label='Fitted line')\n",
    "# plt.xlabel('N')\n",
    "# plt.ylabel('P')\n",
    "# plt.legend()\n",
    "# plt.title('Linear Fit of P vs. N')\n",
    "# plt.show()\n",
    "\n",
    "# (m_fit, b_fit, m_err, b_err)"
   ]
  }
 ],
 "metadata": {
  "kernelspec": {
   "display_name": "pds",
   "language": "python",
   "name": "python3"
  },
  "language_info": {
   "codemirror_mode": {
    "name": "ipython",
    "version": 3
   },
   "file_extension": ".py",
   "mimetype": "text/x-python",
   "name": "python",
   "nbconvert_exporter": "python",
   "pygments_lexer": "ipython3",
   "version": "3.12.0"
  }
 },
 "nbformat": 4,
 "nbformat_minor": 2
}
