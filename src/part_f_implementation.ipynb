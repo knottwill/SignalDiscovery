{
 "cells": [
  {
   "cell_type": "code",
   "execution_count": 1,
   "metadata": {},
   "outputs": [],
   "source": [
    "import numpy as np\n",
    "import matplotlib.pyplot as plt\n",
    "from generation import generate_from_total_pdf\n",
    "from distributions import total_cdf, total_pdf\n",
    "from hypothesis_test import signal_background_test\n",
    "\n",
    "def generate_NP_data(n_datapoints, n_attempts, N_range):\n",
    "    \"\"\"\n",
    "    Generate N vs P data\n",
    "\n",
    "    This function estimates the probability of discovering the signal\n",
    "    for a range of dataset sizes, by performing Neyman-Pearson \n",
    "    hypothesis tests.\n",
    "    \"\"\"\n",
    "    # True parameter values\n",
    "    true_params, alpha, beta = {'f': 0.1, 'lam': 0.5, 'mu': 5.28, 'sigma': 0.018}, 5, 5.6\n",
    "\n",
    "    # Generating starting parameters by adding random shifts to true parameters\n",
    "    np.random.seed(42)\n",
    "    random_shifts = {\n",
    "        'f': np.random.uniform(-0.09, 0.5), \n",
    "        'lam': np.random.uniform(-0.3, 0.6), \n",
    "        'mu': np.random.uniform(-0.25, 0.3), \n",
    "        'sigma': np.random.uniform(-0.01, 0.03)\n",
    "    }\n",
    "    starting_params = {}\n",
    "    for param in true_params:\n",
    "        starting_params[param] = true_params[param] + random_shifts[param]\n",
    "        starting_params[param] = float(f'{starting_params[param]:.4}') # rounding to 4 sig. fig.\n",
    "\n",
    "    # Standard binomial error\n",
    "    # on estimate of 'probability of discovery'\n",
    "    def standard_binomial_error(p, n):\n",
    "        return np.sqrt((p*(1-p))/n)\n",
    "\n",
    "    # -----------------------------\n",
    "    # Data Generation and Hypothesis Testing\n",
    "    # -----------------------------\n",
    "    N = np.linspace(N_range[0], N_range[1], n_datapoints).astype(int) # values of 'N_events'\n",
    "    P = [] # probability of discovery\n",
    "    P_err = [] # error in probability of discovery\n",
    "    for N_events in N:\n",
    "        n_i = n_attempts # number of successful hypothesis tests conducted\n",
    "        discovery_count = 0 # number of 'discoveries'\n",
    "        for _ in range(n_attempts):\n",
    "\n",
    "            dataset = generate_from_total_pdf(N_events)\n",
    "\n",
    "            discovery, _, _ = signal_background_test(\n",
    "                dataset=dataset, \n",
    "                pdf=total_pdf, \n",
    "                cdf=total_cdf, \n",
    "                starting_params=true_params,\n",
    "                binned=False, \n",
    "                plot=False\n",
    "                )\n",
    "            \n",
    "            # if a valid minimum was not found \n",
    "            # then it is not a valid hypothesis test \n",
    "            if discovery=='invalid minimum':\n",
    "                n_i -= 1\n",
    "\n",
    "            if discovery==True:\n",
    "                discovery_count += 1\n",
    "\n",
    "        p = discovery_count/n_i\n",
    "        P.append(p)\n",
    "        P_err.append(standard_binomial_error(p, n_i))\n",
    "        print(f\"number of attempts: {n_i}\")\n",
    "        print(f\"Sample size (N_events)={N_events}, probability of discovery={P[-1]} +- {P_err[-1]}\")\n",
    "\n",
    "    return np.array(N), np.array(P), np.array(P_err)"
   ]
  },
  {
   "cell_type": "code",
   "execution_count": 3,
   "metadata": {},
   "outputs": [
    {
     "name": "stdout",
     "output_type": "stream",
     "text": [
      "number of attempts: 500\n",
      "Sample size (N_events)=400, probability of discovery=0.62 +- 0.021707141681944216\n",
      "number of attempts: 500\n",
      "Sample size (N_events)=410, probability of discovery=0.596 +- 0.021944657664224338\n",
      "number of attempts: 500\n",
      "Sample size (N_events)=420, probability of discovery=0.654 +- 0.021273645667821018\n",
      "number of attempts: 500\n",
      "Sample size (N_events)=430, probability of discovery=0.646 +- 0.021386163751360363\n",
      "number of attempts: 500\n",
      "Sample size (N_events)=440, probability of discovery=0.698 +- 0.02053270561811083\n",
      "number of attempts: 500\n",
      "Sample size (N_events)=451, probability of discovery=0.74 +- 0.019616319736382767\n",
      "number of attempts: 500\n",
      "Sample size (N_events)=461, probability of discovery=0.678 +- 0.020895741192884256\n",
      "number of attempts: 500\n",
      "Sample size (N_events)=471, probability of discovery=0.75 +- 0.019364916731037084\n",
      "number of attempts: 500\n",
      "Sample size (N_events)=481, probability of discovery=0.728 +- 0.019900552756142227\n",
      "number of attempts: 500\n",
      "Sample size (N_events)=491, probability of discovery=0.788 +- 0.018278730809331373\n",
      "number of attempts: 500\n",
      "Sample size (N_events)=502, probability of discovery=0.782 +- 0.018464885594013304\n",
      "number of attempts: 500\n",
      "Sample size (N_events)=512, probability of discovery=0.798 +- 0.01795527777562909\n",
      "number of attempts: 500\n",
      "Sample size (N_events)=522, probability of discovery=0.848 +- 0.01605590234150669\n",
      "number of attempts: 500\n",
      "Sample size (N_events)=532, probability of discovery=0.838 +- 0.016477621187537962\n",
      "number of attempts: 500\n",
      "Sample size (N_events)=542, probability of discovery=0.856 +- 0.015701210144444283\n",
      "number of attempts: 500\n",
      "Sample size (N_events)=553, probability of discovery=0.858 +- 0.01560999679692472\n",
      "number of attempts: 500\n",
      "Sample size (N_events)=563, probability of discovery=0.852 +- 0.015880554146502572\n",
      "number of attempts: 500\n",
      "Sample size (N_events)=573, probability of discovery=0.852 +- 0.015880554146502572\n",
      "number of attempts: 500\n",
      "Sample size (N_events)=583, probability of discovery=0.88 +- 0.014532721699667961\n",
      "number of attempts: 500\n",
      "Sample size (N_events)=593, probability of discovery=0.886 +- 0.014212951839783317\n",
      "number of attempts: 500\n",
      "Sample size (N_events)=604, probability of discovery=0.898 +- 0.013534843922262271\n",
      "number of attempts: 500\n",
      "Sample size (N_events)=614, probability of discovery=0.898 +- 0.013534843922262271\n",
      "number of attempts: 500\n",
      "Sample size (N_events)=624, probability of discovery=0.914 +- 0.01253826144248077\n",
      "number of attempts: 500\n",
      "Sample size (N_events)=634, probability of discovery=0.924 +- 0.01185107590052481\n",
      "number of attempts: 500\n",
      "Sample size (N_events)=644, probability of discovery=0.952 +- 0.009559916317625384\n",
      "number of attempts: 500\n",
      "Sample size (N_events)=655, probability of discovery=0.948 +- 0.009929350431926557\n",
      "number of attempts: 500\n",
      "Sample size (N_events)=665, probability of discovery=0.942 +- 0.010453324829928518\n",
      "number of attempts: 500\n",
      "Sample size (N_events)=675, probability of discovery=0.962 +- 0.008550555537507495\n",
      "number of attempts: 500\n",
      "Sample size (N_events)=685, probability of discovery=0.948 +- 0.009929350431926557\n",
      "number of attempts: 500\n",
      "Sample size (N_events)=695, probability of discovery=0.962 +- 0.008550555537507495\n",
      "number of attempts: 500\n",
      "Sample size (N_events)=706, probability of discovery=0.954 +- 0.009368457717255283\n",
      "number of attempts: 500\n",
      "Sample size (N_events)=716, probability of discovery=0.97 +- 0.007628892449104264\n",
      "number of attempts: 500\n",
      "Sample size (N_events)=726, probability of discovery=0.972 +- 0.0073778045514909145\n",
      "number of attempts: 500\n",
      "Sample size (N_events)=736, probability of discovery=0.984 +- 0.00561141693336006\n",
      "number of attempts: 500\n",
      "Sample size (N_events)=746, probability of discovery=0.978 +- 0.006559878047646925\n",
      "number of attempts: 500\n",
      "Sample size (N_events)=757, probability of discovery=0.98 +- 0.006260990336999414\n",
      "number of attempts: 500\n",
      "Sample size (N_events)=767, probability of discovery=0.98 +- 0.006260990336999414\n",
      "number of attempts: 500\n",
      "Sample size (N_events)=777, probability of discovery=0.976 +- 0.006844559883586383\n",
      "number of attempts: 500\n",
      "Sample size (N_events)=787, probability of discovery=0.97 +- 0.007628892449104264\n",
      "number of attempts: 500\n",
      "Sample size (N_events)=797, probability of discovery=0.99 +- 0.0044497190922574\n",
      "number of attempts: 500\n",
      "Sample size (N_events)=808, probability of discovery=0.988 +- 0.004869496893930627\n",
      "number of attempts: 500\n",
      "Sample size (N_events)=818, probability of discovery=0.994 +- 0.0034536936748935927\n",
      "number of attempts: 500\n",
      "Sample size (N_events)=828, probability of discovery=0.988 +- 0.004869496893930627\n",
      "number of attempts: 500\n",
      "Sample size (N_events)=838, probability of discovery=0.988 +- 0.004869496893930627\n",
      "number of attempts: 500\n",
      "Sample size (N_events)=848, probability of discovery=0.992 +- 0.003983967871356396\n",
      "number of attempts: 500\n",
      "Sample size (N_events)=859, probability of discovery=0.994 +- 0.0034536936748935927\n",
      "number of attempts: 500\n",
      "Sample size (N_events)=869, probability of discovery=0.996 +- 0.002822764602300377\n",
      "number of attempts: 500\n",
      "Sample size (N_events)=879, probability of discovery=0.996 +- 0.002822764602300377\n",
      "number of attempts: 500\n",
      "Sample size (N_events)=889, probability of discovery=0.998 +- 0.001997998998998749\n",
      "number of attempts: 500\n",
      "Sample size (N_events)=900, probability of discovery=0.992 +- 0.003983967871356396\n",
      "[400 410 420 430 440 451 461 471 481 491 502 512 522 532 542 553 563 573\n",
      " 583 593 604 614 624 634 644 655 665 675 685 695 706 716 726 736 746 757\n",
      " 767 777 787 797 808 818 828 838 848 859 869 879 889 900] [0.62  0.596 0.654 0.646 0.698 0.74  0.678 0.75  0.728 0.788 0.782 0.798\n",
      " 0.848 0.838 0.856 0.858 0.852 0.852 0.88  0.886 0.898 0.898 0.914 0.924\n",
      " 0.952 0.948 0.942 0.962 0.948 0.962 0.954 0.97  0.972 0.984 0.978 0.98\n",
      " 0.98  0.976 0.97  0.99  0.988 0.994 0.988 0.988 0.992 0.994 0.996 0.996\n",
      " 0.998 0.992] [0.02170714 0.02194466 0.02127365 0.02138616 0.02053271 0.01961632\n",
      " 0.02089574 0.01936492 0.01990055 0.01827873 0.01846489 0.01795528\n",
      " 0.0160559  0.01647762 0.01570121 0.01561    0.01588055 0.01588055\n",
      " 0.01453272 0.01421295 0.01353484 0.01353484 0.01253826 0.01185108\n",
      " 0.00955992 0.00992935 0.01045332 0.00855056 0.00992935 0.00855056\n",
      " 0.00936846 0.00762889 0.0073778  0.00561142 0.00655988 0.00626099\n",
      " 0.00626099 0.00684456 0.00762889 0.00444972 0.0048695  0.00345369\n",
      " 0.0048695  0.0048695  0.00398397 0.00345369 0.00282276 0.00282276\n",
      " 0.001998   0.00398397]\n"
     ]
    },
    {
     "ename": "NameError",
     "evalue": "name 'plt' is not defined",
     "output_type": "error",
     "traceback": [
      "\u001b[0;31m---------------------------------------------------------------------------\u001b[0m",
      "\u001b[0;31mNameError\u001b[0m                                 Traceback (most recent call last)",
      "\u001b[1;32m/Users/willknott/Desktop/DIS/coursework/pds/wdk24/src/part_f_implementation.ipynb Cell 2\u001b[0m line \u001b[0;36m7\n\u001b[1;32m      <a href='vscode-notebook-cell:/Users/willknott/Desktop/DIS/coursework/pds/wdk24/src/part_f_implementation.ipynb#W1sZmlsZQ%3D%3D?line=2'>3</a>\u001b[0m N, P, P_err \u001b[39m=\u001b[39m generate_NP_data(n_datapoints\u001b[39m=\u001b[39m\u001b[39m50\u001b[39m, n_attempts\u001b[39m=\u001b[39m\u001b[39m500\u001b[39m, N_range\u001b[39m=\u001b[39m(\u001b[39m400\u001b[39m,\u001b[39m900\u001b[39m))\n\u001b[1;32m      <a href='vscode-notebook-cell:/Users/willknott/Desktop/DIS/coursework/pds/wdk24/src/part_f_implementation.ipynb#W1sZmlsZQ%3D%3D?line=4'>5</a>\u001b[0m \u001b[39mprint\u001b[39m(N, P, P_err)\n\u001b[0;32m----> <a href='vscode-notebook-cell:/Users/willknott/Desktop/DIS/coursework/pds/wdk24/src/part_f_implementation.ipynb#W1sZmlsZQ%3D%3D?line=6'>7</a>\u001b[0m fig, ax \u001b[39m=\u001b[39m plt\u001b[39m.\u001b[39msubplots()\n\u001b[1;32m      <a href='vscode-notebook-cell:/Users/willknott/Desktop/DIS/coursework/pds/wdk24/src/part_f_implementation.ipynb#W1sZmlsZQ%3D%3D?line=7'>8</a>\u001b[0m ax\u001b[39m.\u001b[39merrorbar(N, P, yerr\u001b[39m=\u001b[39mP_err, fmt\u001b[39m=\u001b[39m\u001b[39m'\u001b[39m\u001b[39mo\u001b[39m\u001b[39m'\u001b[39m, ecolor\u001b[39m=\u001b[39m\u001b[39m'\u001b[39m\u001b[39mred\u001b[39m\u001b[39m'\u001b[39m, capsize\u001b[39m=\u001b[39m\u001b[39m3\u001b[39m, label\u001b[39m=\u001b[39m\u001b[39m'\u001b[39m\u001b[39mProbability vs. Dataset Size\u001b[39m\u001b[39m'\u001b[39m)\n\u001b[1;32m      <a href='vscode-notebook-cell:/Users/willknott/Desktop/DIS/coursework/pds/wdk24/src/part_f_implementation.ipynb#W1sZmlsZQ%3D%3D?line=8'>9</a>\u001b[0m ax\u001b[39m.\u001b[39mset_xlabel(\u001b[39m'\u001b[39m\u001b[39mN\u001b[39m\u001b[39m'\u001b[39m)\n",
      "\u001b[0;31mNameError\u001b[0m: name 'plt' is not defined"
     ]
    }
   ],
   "source": [
    "from find_NP import generate_NP_data\n",
    "\n",
    "N, P, P_err = generate_NP_data(n_datapoints=50, n_attempts=500, N_range=(400,900))\n",
    "\n",
    "print(N, P, P_err)"
   ]
  },
  {
   "cell_type": "code",
   "execution_count": 9,
   "metadata": {},
   "outputs": [
    {
     "data": {
      "text/plain": [
       "<matplotlib.legend.Legend at 0x12b52b530>"
      ]
     },
     "execution_count": 9,
     "metadata": {},
     "output_type": "execute_result"
    },
    {
     "data": {
      "image/png": "[encoded data removed]",
      "text/plain": [
       "<Figure size 640x480 with 1 Axes>"
      ]
     },
     "metadata": {},
     "output_type": "display_data"
    }
   ],
   "source": [
    "import matplotlib.pyplot as plt\n",
    "\n",
    "fig, ax = plt.subplots()\n",
    "ax.errorbar(N, P, yerr=P_err, fmt='o', ecolor='red', capsize=3, label='Probability vs. Dataset Size')\n",
    "ax.set_xlabel('N')\n",
    "ax.set_ylabel('Probability of Discovering Signal (P)')\n",
    "ax.set_title('Probability vs. Dataset Size')\n",
    "ax.legend()"
   ]
  },
  {
   "cell_type": "code",
   "execution_count": 7,
   "metadata": {},
   "outputs": [],
   "source": [
    "import pickle \n",
    "\n",
    "data_to_save = {\n",
    "    'N': N,\n",
    "    'P': P,\n",
    "    'P_err': P_err\n",
    "}\n",
    "\n",
    "# Save the data to a pickle file\n",
    "with open('PN_data.pkl', 'wb') as file:\n",
    "    pickle.dump(data_to_save, file)"
   ]
  },
  {
   "cell_type": "raw",
   "metadata": {},
   "source": [
    "number of attempts: 994\n",
    "Sample size (N_events)=500, probability of discovery=0.558 +- 0.0157\n",
    "number of attempts: 996\n",
    "Sample size (N_events)=750, probability of discovery=0.683 +- 0.0147\n",
    "number of attempts: 996\n",
    "Sample size (N_events)=1000, probability of discovery=0.7249 +- 0.0141"
   ]
  },
  {
   "cell_type": "code",
   "execution_count": 1,
   "metadata": {},
   "outputs": [],
   "source": [
    "import sys \n",
    "sys.path.append('/Users/willknott/Desktop/DIS/coursework/pds/wdk24/src')\n",
    "import numpy as np\n",
    "import matplotlib.pyplot as plt"
   ]
  },
  {
   "cell_type": "code",
   "execution_count": 2,
   "metadata": {},
   "outputs": [],
   "source": [
    "from generation import generate_from_total_pdf\n",
    "from distributions import total_cdf, total_pdf\n",
    "from hypothesis_test import signal_background_test"
   ]
  },
  {
   "cell_type": "code",
   "execution_count": 3,
   "metadata": {},
   "outputs": [],
   "source": [
    "# True parameter values\n",
    "true_params, alpha, beta = {'f': 0.1, 'lam': 0.5, 'mu': 5.28, 'sigma': 0.018}, 5, 5.6\n",
    "random_shifts = {\n",
    "    'f': np.random.uniform(-0.09, 0.5), \n",
    "    'lam': np.random.uniform(-0.3, 1), \n",
    "    'mu': np.random.uniform(-0.25, 0.3), \n",
    "    'sigma': np.random.uniform(-0.01, 0.03)\n",
    "}\n",
    "starting_params = {}\n",
    "for param in true_params:\n",
    "    starting_params[param] = true_params[param] + random_shifts[param]\n",
    "    starting_params[param] = float(f'{starting_params[param]:.4}')"
   ]
  },
  {
   "cell_type": "code",
   "execution_count": 4,
   "metadata": {},
   "outputs": [
    {
     "name": "stdout",
     "output_type": "stream",
     "text": [
      "Sample size (N_events)=500, probability of discovery=0.657 +- 0.015011695440555674\n",
      "Warning: valid minimum NOT FOUND for H1\n",
      "Warning: valid minimum NOT FOUND for H1\n",
      "Sample size (N_events)=526, probability of discovery=0.6753507014028056 +- 0.014821994283720304\n",
      "Warning: valid minimum NOT FOUND for H1\n",
      "Warning: valid minimum NOT FOUND for H1\n",
      "Warning: valid minimum NOT FOUND for H1\n",
      "Warning: valid minimum NOT FOUND for H1\n",
      "Warning: valid minimum NOT FOUND for H1\n",
      "Sample size (N_events)=552, probability of discovery=0.700502512562814 +- 0.014520778474085538\n",
      "Warning: valid minimum NOT FOUND for H1\n",
      "Warning: valid minimum NOT FOUND for H1\n",
      "Sample size (N_events)=578, probability of discovery=0.7394789579158316 +- 0.013893736017233827\n",
      "Warning: valid minimum NOT FOUND for H1\n",
      "Warning: valid minimum NOT FOUND for H1\n",
      "Sample size (N_events)=605, probability of discovery=0.7605210420841684 +- 0.013509025656195137\n",
      "Warning: valid minimum NOT FOUND for H1\n",
      "Warning: valid minimum NOT FOUND for H1\n",
      "Warning: valid minimum NOT FOUND for H1\n",
      "Warning: valid minimum NOT FOUND for H1\n",
      "Warning: valid minimum NOT FOUND for H1\n",
      "Warning: valid minimum NOT FOUND for H1\n",
      "Warning: valid minimum NOT FOUND for H1\n",
      "Sample size (N_events)=631, probability of discovery=0.7593152064451159 +- 0.013566279196039761\n",
      "Sample size (N_events)=657, probability of discovery=0.783 +- 0.013034991369387246\n",
      "Warning: valid minimum NOT FOUND for H1\n",
      "Warning: valid minimum NOT FOUND for H1\n",
      "Warning: valid minimum NOT FOUND for H1\n",
      "Warning: valid minimum NOT FOUND for H1\n",
      "Warning: valid minimum NOT FOUND for H1\n",
      "Warning: valid minimum NOT FOUND for H1\n",
      "Sample size (N_events)=684, probability of discovery=0.8118712273641852 +- 0.012395898001595223\n",
      "Sample size (N_events)=710, probability of discovery=0.802 +- 0.012601428490452976\n",
      "Warning: valid minimum NOT FOUND for H1\n",
      "Warning: valid minimum NOT FOUND for H1\n",
      "Warning: valid minimum NOT FOUND for H1\n",
      "Warning: valid minimum NOT FOUND for H1\n",
      "Warning: valid minimum NOT FOUND for H1\n",
      "Warning: valid minimum NOT FOUND for H1\n",
      "Sample size (N_events)=736, probability of discovery=0.817907444668008 +- 0.0122406641888158\n",
      "Warning: valid minimum NOT FOUND for H1\n",
      "Warning: valid minimum NOT FOUND for H1\n",
      "Warning: valid minimum NOT FOUND for H1\n",
      "Warning: valid minimum NOT FOUND for H1\n",
      "Warning: valid minimum NOT FOUND for H1\n",
      "Sample size (N_events)=763, probability of discovery=0.7959798994974875 +- 0.012775443588693767\n",
      "Warning: valid minimum NOT FOUND for H1\n",
      "Warning: valid minimum NOT FOUND for H1\n",
      "Sample size (N_events)=789, probability of discovery=0.8216432865731463 +- 0.01211772564270741\n",
      "Warning: valid minimum NOT FOUND for H1\n",
      "Warning: valid minimum NOT FOUND for H1\n",
      "Warning: valid minimum NOT FOUND for H1\n",
      "Sample size (N_events)=815, probability of discovery=0.8495486459378134 +- 0.011322559125856517\n",
      "Warning: valid minimum NOT FOUND for H1\n",
      "Sample size (N_events)=842, probability of discovery=0.8408408408408409 +- 0.011574173089150092\n",
      "Warning: valid minimum NOT FOUND for H1\n",
      "Warning: valid minimum NOT FOUND for H1\n",
      "Warning: valid minimum NOT FOUND for H1\n",
      "Warning: valid minimum NOT FOUND for H1\n",
      "Sample size (N_events)=868, probability of discovery=0.8664658634538153 +- 0.010778100049906422\n",
      "Warning: valid minimum NOT FOUND for H1\n",
      "Warning: valid minimum NOT FOUND for H1\n",
      "Warning: valid minimum NOT FOUND for H1\n",
      "Warning: valid minimum NOT FOUND for H1\n",
      "Sample size (N_events)=894, probability of discovery=0.8493975903614458 +- 0.011332919487318327\n",
      "Warning: valid minimum NOT FOUND for H1\n",
      "Warning: valid minimum NOT FOUND for H1\n",
      "Sample size (N_events)=921, probability of discovery=0.845691382765531 +- 0.011434989543211739\n",
      "Warning: valid minimum NOT FOUND for H1\n",
      "Warning: valid minimum NOT FOUND for H1\n",
      "Warning: valid minimum NOT FOUND for H1\n",
      "Sample size (N_events)=947, probability of discovery=0.847542627883651 +- 0.011384328289166324\n",
      "Warning: valid minimum NOT FOUND for H1\n",
      "Warning: valid minimum NOT FOUND for H1\n",
      "Warning: valid minimum NOT FOUND for H1\n",
      "Sample size (N_events)=973, probability of discovery=0.8575727181544633 +- 0.011068390988252774\n",
      "Warning: valid minimum NOT FOUND for H1\n",
      "Warning: valid minimum NOT FOUND for H1\n",
      "Warning: valid minimum NOT FOUND for H1\n",
      "Warning: valid minimum NOT FOUND for H1\n",
      "Sample size (N_events)=1000, probability of discovery=0.8524096385542169 +- 0.011238892180453626\n"
     ]
    },
    {
     "data": {
      "text/plain": [
       "<matplotlib.legend.Legend at 0x142091bb0>"
      ]
     },
     "execution_count": 4,
     "metadata": {},
     "output_type": "execute_result"
    },
    {
     "data": {
      "image/png": "[encoded data removed]",
      "text/plain": [
       "<Figure size 640x480 with 1 Axes>"
      ]
     },
     "metadata": {},
     "output_type": "display_data"
    }
   ],
   "source": [
    "def error_on_p(p, n):\n",
    "    return np.sqrt((p*(1-p))/n)\n",
    "\n",
    "n_datapoints = 20\n",
    "n = 1000\n",
    "N = np.linspace(500, 1000, n_datapoints).astype(int)\n",
    "P = []\n",
    "P_err = []\n",
    "for N_events in N:\n",
    "    n_i = n\n",
    "    discovery_count = 0\n",
    "    for _ in range(n):\n",
    "\n",
    "        dataset = generate_from_total_pdf(N_events)\n",
    "\n",
    "        discovery, _, _ = signal_background_test(\n",
    "            dataset=dataset, \n",
    "            pdf=total_pdf, \n",
    "            cdf=total_cdf, \n",
    "            starting_params=starting_params,\n",
    "            binned=False, \n",
    "            plot=False\n",
    "            )\n",
    "        \n",
    "        if discovery=='invalid minimum':\n",
    "            n_i -= 1\n",
    "\n",
    "        if discovery==True:\n",
    "            discovery_count += 1\n",
    "\n",
    "    p = discovery_count/n_i\n",
    "    P.append(p)\n",
    "    P_err.append(error_on_p(p, n_i))\n",
    "    print(f\"number of attempts: {n_i}\")\n",
    "    print(f\"Sample size (N_events)={N_events}, probability of discovery={P[-1]} +- {P_err[-1]}\")\n",
    "    \n",
    "N, P, P_err = np.array(N), np.array(P), np.array(P_err)\n",
    "\n",
    "fig, ax = plt.subplots()\n",
    "ax.errorbar(N, P, yerr=P_err, fmt='o', ecolor='red', capsize=3, label='Probability vs. Dataset Size')\n",
    "ax.set_xlabel('N')\n",
    "ax.set_ylabel('Probability of Discovering Signal (P)')\n",
    "ax.set_title('Probability vs. Dataset Size')\n",
    "ax.legend()"
   ]
  },
  {
   "cell_type": "code",
   "execution_count": null,
   "metadata": {},
   "outputs": [],
   "source": []
  },
  {
   "cell_type": "code",
   "execution_count": null,
   "metadata": {},
   "outputs": [],
   "source": []
  },
  {
   "cell_type": "code",
   "execution_count": null,
   "metadata": {},
   "outputs": [],
   "source": []
  },
  {
   "cell_type": "code",
   "execution_count": null,
   "metadata": {},
   "outputs": [],
   "source": []
  },
  {
   "cell_type": "code",
   "execution_count": null,
   "metadata": {},
   "outputs": [],
   "source": []
  },
  {
   "cell_type": "code",
   "execution_count": 69,
   "metadata": {},
   "outputs": [],
   "source": [
    "n_datapoints = 20\n",
    "n_init = 1000\n",
    "N = np.logspace(1, 6, num=n_datapoints).astype(int)\n",
    "N = np.linspace(500, 1000, n_datapoints).astype(int)\n",
    "\n",
    "all_data = [np.array([generate_from_total_pdf(N_events) for _ in range(n_init)]) for N_events in N]\n"
   ]
  },
  {
   "cell_type": "code",
   "execution_count": 70,
   "metadata": {},
   "outputs": [
    {
     "data": {
      "text/plain": [
       "20"
      ]
     },
     "execution_count": 70,
     "metadata": {},
     "output_type": "execute_result"
    }
   ],
   "source": [
    "len(all_data)"
   ]
  },
  {
   "cell_type": "markdown",
   "metadata": {},
   "source": [
    "Standard binomial error"
   ]
  },
  {
   "cell_type": "code",
   "execution_count": 71,
   "metadata": {},
   "outputs": [],
   "source": [
    "def error_on_p(p, n):\n",
    "    return np.sqrt((p*(1-p))/n)"
   ]
  },
  {
   "cell_type": "markdown",
   "metadata": {},
   "source": [
    "### Hypothesis Testing"
   ]
  },
  {
   "cell_type": "code",
   "execution_count": 72,
   "metadata": {},
   "outputs": [
    {
     "name": "stdout",
     "output_type": "stream",
     "text": [
      "Warning: valid minimum NOT FOUND for H1\n",
      "┌─────────────────────────────────────────────────────────────────────────┐\n",
      "│                                Migrad                                   │\n",
      "├──────────────────────────────────┬──────────────────────────────────────┤\n",
      "│ FCN = -810.2                     │              Nfcn = 809              │\n",
      "│ EDM = 2.43 (Goal: 0.0002)        │                                      │\n",
      "├──────────────────────────────────┼──────────────────────────────────────┤\n",
      "│         INVALID Minimum          │        No Parameters at limit        │\n",
      "├──────────────────────────────────┼──────────────────────────────────────┤\n",
      "│ ABOVE EDM threshold (goal x 10)  │           Below call limit           │\n",
      "├───────────────┬──────────────────┼───────────┬─────────────┬────────────┤\n",
      "│  Covariance   │     Hesse ok     │ Accurate  │  Pos. def.  │ Not forced │\n",
      "└───────────────┴──────────────────┴───────────┴─────────────┴────────────┘\n",
      "┌───┬───────┬───────────┬───────────┬────────────┬────────────┬─────────┬─────────┬───────┐\n",
      "│   │ Name  │   Value   │ Hesse Err │ Minos Err- │ Minos Err+ │ Limit-  │ Limit+  │ Fixed │\n",
      "├───┼───────┼───────────┼───────────┼────────────┼────────────┼─────────┼─────────┼───────┤\n",
      "│ 0 │ f     │  0.0013   │  0.0013   │            │            │    0    │    1    │       │\n",
      "│ 1 │ lam   │   0.70    │   0.21    │            │            │    0    │    2    │       │\n",
      "│ 2 │ mu    │5.597138833│0.000000006│            │            │    5    │   5.6   │       │\n",
      "│ 3 │ sigma │  4.0e-9   │  2.8e-9   │            │            │    0    │   0.3   │       │\n",
      "└───┴───────┴───────────┴───────────┴────────────┴────────────┴─────────┴─────────┴───────┘\n",
      "┌───────┬─────────────────────────────────────────┐\n",
      "│       │         f       lam        mu     sigma │\n",
      "├───────┼─────────────────────────────────────────┤\n",
      "│     f │  1.79e-06  8.73e-07 -1.75e-12 -1.12e-15 │\n",
      "│   lam │  8.73e-07    0.0441 -1.89e-11 -1.21e-14 │\n",
      "│    mu │ -1.75e-12 -1.89e-11   3.8e-17  2.42e-20 │\n",
      "│ sigma │ -1.12e-15 -1.21e-14  2.42e-20  7.84e-18 │\n",
      "└───────┴─────────────────────────────────────────┘\n"
     ]
    }
   ],
   "source": [
    "from hypothesis_test import signal_background_test\n",
    "\n",
    "P = []\n",
    "P_err = []\n",
    "ns = []\n",
    "for i, group_i in enumerate(all_data):\n",
    "    n_i = n_init\n",
    "\n",
    "    r_discoveries = 0\n",
    "    for dataset in group_i:\n",
    "\n",
    "        discovery, _, _ = signal_background_test(\n",
    "            dataset=dataset, \n",
    "            pdf=total_pdf, \n",
    "            cdf=total_cdf, \n",
    "            starting_params=starting_params,\n",
    "            binned=False, \n",
    "            plot=False\n",
    "            )\n",
    "\n",
    "        if discovery=='invalid minimum':\n",
    "            n_i -= 1\n",
    "\n",
    "        if discovery==True:\n",
    "            r_discoveries += 1\n",
    "\n",
    "    ns.append(n_i)\n",
    "\n",
    "    p = r_discoveries/n_i\n",
    "    P.append(p)\n",
    "    P_err.append(error_on_p(p, n_i))\n",
    "\n",
    "N, P, P_err = np.array(N), np.array(P), np.array(P_err)"
   ]
  },
  {
   "cell_type": "markdown",
   "metadata": {},
   "source": [
    "# Finding `N_90`"
   ]
  },
  {
   "cell_type": "code",
   "execution_count": 73,
   "metadata": {},
   "outputs": [
    {
     "name": "stdout",
     "output_type": "stream",
     "text": [
      "[ 500  526  552  578  605  631  657  684  710  736  763  789  815  842\n",
      "  868  894  921  947  973 1000]\n",
      "[0.42       0.4        0.64       0.54       0.52       0.56\n",
      " 0.72       0.64       0.58       0.76       0.63265306 0.66\n",
      " 0.52       0.74       0.78       0.76       0.76       0.68\n",
      " 0.68       0.66      ]\n",
      "[0.06979971 0.06928203 0.06788225 0.07048404 0.07065409 0.07019972\n",
      " 0.06349803 0.06788225 0.06979971 0.06039868 0.06886887 0.06699254\n",
      " 0.07065409 0.06203225 0.05858327 0.06039868 0.06039868 0.06596969\n",
      " 0.06596969 0.06699254]\n"
     ]
    }
   ],
   "source": [
    "print(N)\n",
    "print(P)\n",
    "print(P_err)"
   ]
  },
  {
   "cell_type": "raw",
   "metadata": {},
   "source": [
    "import pickle \n",
    "\n",
    "data_to_save = {\n",
    "    'N': N,\n",
    "    'P': P,\n",
    "    'P_err': P_err\n",
    "}\n",
    "\n",
    "# Save the data to a pickle file\n",
    "with open('third_deg.pkl', 'wb') as file:\n",
    "    pickle.dump(data_to_save, file)"
   ]
  },
  {
   "cell_type": "code",
   "execution_count": 74,
   "metadata": {},
   "outputs": [
    {
     "data": {
      "text/plain": [
       "<matplotlib.legend.Legend at 0x164b0cb30>"
      ]
     },
     "execution_count": 74,
     "metadata": {},
     "output_type": "execute_result"
    },
    {
     "data": {
      "image/png": "[encoded data removed]",
      "text/plain": [
       "<Figure size 640x480 with 1 Axes>"
      ]
     },
     "metadata": {},
     "output_type": "display_data"
    }
   ],
   "source": [
    "fig, ax = plt.subplots()\n",
    "ax.errorbar(N, P, yerr=P_err, fmt='o', ecolor='red', capsize=3, label='Probability vs. Dataset Size')\n",
    "ax.set_xlabel('N')\n",
    "ax.set_ylabel('Probability of Discovering Signal (P)')\n",
    "ax.set_title('Probability vs. Dataset Size')\n",
    "ax.legend()"
   ]
  },
  {
   "cell_type": "code",
   "execution_count": 25,
   "metadata": {},
   "outputs": [
    {
     "data": {
      "text/plain": [
       "{'a': '(-2.49e-09, 2.01e-10)',\n",
       " 'b': '(2.9e-06, 3.05e-07)',\n",
       " 'c': '(0.000447, 0.000124)',\n",
       " 'd': '(-0.0306, 0.00916)'}"
      ]
     },
     "execution_count": 25,
     "metadata": {},
     "output_type": "execute_result"
    },
    {
     "data": {
      "image/png": "[encoded data removed]",
      "text/plain": [
       "<Figure size 640x480 with 1 Axes>"
      ]
     },
     "metadata": {},
     "output_type": "display_data"
    }
   ],
   "source": [
    "import numpy as np\n",
    "from scipy.optimize import curve_fit\n",
    "import matplotlib.pyplot as plt\n",
    "\n",
    "def third_degree(x, a, b, c, d):\n",
    "    return a*(x**3) + b*(x**2) + c*x + d \n",
    "def fourth_degree(x, a, b, c, d, e):\n",
    "    return a*(x**4) + b*(x**3) + c*(x**2) + d*x + e\n",
    "\n",
    "# Replace 0 uncertainties with 0.00001 so as to \n",
    "# not produce errors in the least squares estimation\n",
    "P_err[P_err == 0.0] = 0.00001\n",
    "\n",
    "# ------------------\n",
    "# should maybe use starting values\n",
    "# ------------------\n",
    "popt, pcov = curve_fit(third_degree, N, P, sigma=P_err, absolute_sigma=True)\n",
    "\n",
    "fig, ax = plt.subplots()\n",
    "\n",
    "# Plotting\n",
    "ax.errorbar(N, P, yerr=P_err, fmt='o', label='Data')\n",
    "ax.plot(N, third_degree(N, *popt), label='Fitted line')\n",
    "ax.set_xlabel('N')\n",
    "ax.set_ylabel('P')\n",
    "ax.legend()\n",
    "\n",
    "a, b, c, d = popt\n",
    "a_err, b_err, c_err, d_err = np.sqrt(np.diag(pcov))\n",
    "\n",
    "parameter_estimates = {\n",
    "    'a': f'({a:.3}, {a_err:.3})',\n",
    "    'b': f'({b:.3}, {b_err:.3})',\n",
    "    'c': f'({c:.3}, {c_err:.3})',\n",
    "    'd': f'({d:.3}, {d_err:.3})'\n",
    "}\n",
    "\n",
    "parameter_estimates"
   ]
  },
  {
   "cell_type": "code",
   "execution_count": 11,
   "metadata": {},
   "outputs": [],
   "source": [
    "# from iminuit import Minuit\n",
    "\n",
    "# N = reduced_N\n",
    "\n",
    "# # Define the linear model\n",
    "# def linear_model(N, m, b):\n",
    "#     return m * N + b\n",
    "\n",
    "# # Define the chi-squared function\n",
    "# def chi2_linear(m, b):\n",
    "#     return np.sum(((P - linear_model(N, m, b)) / P_err) ** 2)\n",
    "\n",
    "# # Perform the minimization\n",
    "# mi = Minuit(chi2_linear, m=3, b=-1)\n",
    "# mi.limits['b'] = (-3, 1)\n",
    "# mi.limits['m'] = (1, 20)\n",
    "# mi.errordef = Minuit.LEAST_SQUARES\n",
    "# mi.migrad()  # finds minimum of chi-square function\n",
    "\n",
    "# # Get parameters and errors\n",
    "# m_fit = mi.values['m']\n",
    "# b_fit = mi.values['b']\n",
    "# m_err = mi.errors['m']\n",
    "# b_err = mi.errors['b']\n",
    "\n",
    "# # Plotting\n",
    "# plt.errorbar(N, P, yerr=P_err, fmt='o', label='Data')\n",
    "# plt.plot(N, linear_model(N, *mi.values), label='Fitted line')\n",
    "# plt.xlabel('N')\n",
    "# plt.ylabel('P')\n",
    "# plt.legend()\n",
    "# plt.title('Linear Fit of P vs. N')\n",
    "# plt.show()\n",
    "\n",
    "# (m_fit, b_fit, m_err, b_err)"
   ]
  },
  {
   "cell_type": "code",
   "execution_count": null,
   "metadata": {},
   "outputs": [],
   "source": []
  }
 ],
 "metadata": {
  "kernelspec": {
   "display_name": "pds",
   "language": "python",
   "name": "python3"
  },
  "language_info": {
   "codemirror_mode": {
    "name": "ipython",
    "version": 3
   },
   "file_extension": ".py",
   "mimetype": "text/x-python",
   "name": "python",
   "nbconvert_exporter": "python",
   "pygments_lexer": "ipython3",
   "version": "3.12.0"
  }
 },
 "nbformat": 4,
 "nbformat_minor": 2
}
